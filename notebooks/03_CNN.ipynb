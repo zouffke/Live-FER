{
 "cells": [
  {
   "metadata": {},
   "cell_type": "markdown",
   "source": [
    "# CNN\n",
    "In this notebook we will explain the CNN we can find in the scripts folder."
   ],
   "id": "8d84c0d566efb1f7"
  },
  {
   "metadata": {},
   "cell_type": "markdown",
   "source": [
    "```python\n",
    "class FERCNN(nn.Module):\n",
    "    def __init__(self, num_classes=7): # We use 7 as default as most FER datasets have 7 emotions defined.\n",
    "        super(FERCNN, self).__init__()\n",
    "\n",
    "        self.conv1 = nn.Conv2d(in_channels=1, out_channels=32, kernel_size=3, stride=1, padding=1)\n",
    "        self.conv2 = nn.Conv2d(in_channels=32, out_channels=64, kernel_size=3, stride=1, padding=1)\n",
    "        self.conv3 = nn.Conv2d(in_channels=64, out_channels=128, kernel_size=3, stride=1, padding=1)\n",
    "\n",
    "        self.pool = nn.MaxPool2d(kernel_size=2, stride=2, padding=0)\n",
    "\n",
    "        self.fc1 = nn.Linear(in_features=128 * 6 * 6, out_features=256)\n",
    "        self.fc2 = nn.Linear(in_features=256, out_features=num_classes)\n",
    "\n",
    "        self.dropout = nn.Dropout(0.5)\n",
    "\n",
    "    def forward(self, x):\n",
    "        x = self.pool(F.relu(self.conv1(x)))\n",
    "        x = self.pool(F.relu(self.conv2(x)))\n",
    "        x = self.pool(F.relu(self.conv3(x)))\n",
    "\n",
    "        x = x.view(-1, 128 * 6 * 6)\n",
    "\n",
    "        x = F.relu(self.fc1(x))\n",
    "        x = self.dropout(x)\n",
    "        x = self.fc2(x)\n",
    "\n",
    "        return x\n",
    "```\n",
    "\n",
    "* convx:\n",
    "    * in_channels=1: The number of input channels. Since the FER dataset images are grayscale, there is only one input channel.\n",
    "    * out_channels=32: The number of output channels (or feature maps) produced by the convolution. This layer will output 32 different feature maps.\n",
    "    * kernel_size=3: The size of the convolutional kernel (filter). In this case, the kernel is 3x3.\n",
    "    * stride=1: The stride of the convolution. A stride of 1 means the filter moves one pixel at a time.\n",
    "    * padding=1: The amount of zero-padding added to the input. Padding of 1 means one pixel is added to each side of the input, which helps preserve the spatial dimensions of the input after the convolution.\n",
    "\n",
    "* pool\n",
    "    * kernel_size=2: This specifies the size of the window to take a max over. In this case, the window is 2x2.\n",
    "    * stride=2: This specifies the stride of the window. A stride of 2 means the window moves 2 pixels at a time.\n",
    "    * padding=0: This specifies the amount of zero-padding added to the input. Padding of 0 means no padding is added.\n",
    "    \n",
    "The MaxPool2d layer performs max pooling, which reduces the spatial dimensions (height and width) of the input by taking the maximum value in each window. This helps to downsample the input and reduce the number of parameters, making the model more efficient.\n",
    "\n",
    "* fcx\n",
    "    * in_features=128 * 6 * 6: This specifies the number of input features to the fully connected layer. The value 128 * 6 * 6 comes from the output of the last convolutional layer after it has been flattened. The last convolutional layer has 128 output channels, and the spatial dimensions are reduced to 6x6 after the pooling operations.\n",
    "    * out_features=256: This specifies the number of output features from the fully connected layer. This layer will output a vector of size 256.\n",
    "\n",
    "The fc1 layer is a fully connected (or dense) layer that transforms the input features into a 256-dimensional output vector.\n",
    "\n",
    "* dropout\n",
    "\n",
    "The Dropout layer randomly sets a fraction of input units to 0 at each update during training time, which helps prevent overfitting. The fraction of units to drop is specified by the parameter (in this case, 0.5, meaning 50% of the units are dropped). This regularization technique helps the model generalize better by reducing reliance on specific neurons."
   ],
   "id": "fb176811f4c5a7cb"
  }
 ],
 "metadata": {
  "kernelspec": {
   "display_name": "Python 3",
   "language": "python",
   "name": "python3"
  },
  "language_info": {
   "codemirror_mode": {
    "name": "ipython",
    "version": 2
   },
   "file_extension": ".py",
   "mimetype": "text/x-python",
   "name": "python",
   "nbconvert_exporter": "python",
   "pygments_lexer": "ipython2",
   "version": "2.7.6"
  }
 },
 "nbformat": 4,
 "nbformat_minor": 5
}
