{
 "cells": [
  {
   "metadata": {},
   "cell_type": "markdown",
   "source": "# Balancing",
   "id": "c4ab46577bcd739c"
  },
  {
   "metadata": {},
   "cell_type": "markdown",
   "source": "## Imports",
   "id": "a02de45d8b66ab80"
  },
  {
   "metadata": {
    "ExecuteTime": {
     "end_time": "2024-12-20T09:26:26.387694Z",
     "start_time": "2024-12-20T09:26:26.384551Z"
    }
   },
   "cell_type": "code",
   "source": [
    "import sys\n",
    "import os\n",
    "\n",
    "sys.path.append(os.path.abspath('../scripts'))\n",
    "\n",
    "import torch\n",
    "from torch.utils.data import Subset\n",
    "from collections import Counter\n",
    "from scripts.emotions import emotions\n",
    "import matplotlib.pyplot as plt\n",
    "import seaborn as sns"
   ],
   "id": "f15e8b728dee3928",
   "outputs": [],
   "execution_count": 14
  },
  {
   "metadata": {},
   "cell_type": "markdown",
   "source": "## Vars",
   "id": "7417f8bb5b0686d2"
  },
  {
   "metadata": {
    "ExecuteTime": {
     "end_time": "2024-12-20T09:33:30.625063Z",
     "start_time": "2024-12-20T09:33:30.620584Z"
    }
   },
   "cell_type": "code",
   "source": [
    "train_dataset_path = '../.data/output/train_dataset.pth'\n",
    "balanced_dataset_output_path = '../.data/output/balanced_train_dataset.pth'"
   ],
   "id": "6c0e535398141a8c",
   "outputs": [],
   "execution_count": 23
  },
  {
   "metadata": {},
   "cell_type": "markdown",
   "source": "## Load datasets",
   "id": "cd609fbbc3f5ca42"
  },
  {
   "metadata": {
    "ExecuteTime": {
     "end_time": "2024-12-20T09:22:03.369719Z",
     "start_time": "2024-12-20T09:22:00.635605Z"
    }
   },
   "cell_type": "code",
   "source": "train_dataset = torch.load(train_dataset_path)",
   "id": "ace4764a32095876",
   "outputs": [
    {
     "name": "stderr",
     "output_type": "stream",
     "text": [
      "C:\\Users\\zouff\\AppData\\Local\\Temp\\ipykernel_29276\\76755992.py:1: FutureWarning: You are using `torch.load` with `weights_only=False` (the current default value), which uses the default pickle module implicitly. It is possible to construct malicious pickle data which will execute arbitrary code during unpickling (See https://github.com/pytorch/pytorch/blob/main/SECURITY.md#untrusted-models for more details). In a future release, the default value for `weights_only` will be flipped to `True`. This limits the functions that could be executed during unpickling. Arbitrary objects will no longer be allowed to be loaded via this mode unless they are explicitly allowlisted by the user via `torch.serialization.add_safe_globals`. We recommend you start setting `weights_only=True` for any use case where you don't have full control of the loaded file. Please open an issue on GitHub for any issues related to this experimental feature.\n",
      "  train_dataset = torch.load(train_dataset_path)\n"
     ]
    }
   ],
   "execution_count": 3
  },
  {
   "metadata": {},
   "cell_type": "markdown",
   "source": [
    "## Plotting imbalances\n",
    "Below we will visualise the labels data to have an idea of the class balances and if they need to be changed."
   ],
   "id": "215cecde8f9a3c05"
  },
  {
   "metadata": {
    "ExecuteTime": {
     "end_time": "2024-12-20T09:22:19.851586Z",
     "start_time": "2024-12-20T09:22:03.375609Z"
    }
   },
   "cell_type": "code",
   "source": "labels = [label for _, label in train_dataset]",
   "id": "db7cfdf47cadf4",
   "outputs": [],
   "execution_count": 4
  },
  {
   "metadata": {},
   "cell_type": "markdown",
   "source": [
    "### Plot\n",
    "\n",
    "The inbalance is clear from the plot below there are a lot more samples from happy than the other classes, this might lead to a model that is biased towards happy."
   ],
   "id": "bfa2df65287d03a6"
  },
  {
   "metadata": {
    "ExecuteTime": {
     "end_time": "2024-12-20T09:22:20.045928Z",
     "start_time": "2024-12-20T09:22:19.858009Z"
    }
   },
   "cell_type": "code",
   "source": [
    "plt.figure(figsize=(9, 8))\n",
    "sns.countplot(x=labels)\n",
    "_ = plt.title('Emotion distribution')\n",
    "_ = plt.xticks(ticks=range(7), labels=[emotions[i] for i in range(7)])\n",
    "plt.show()"
   ],
   "id": "244f64bbc48be07d",
   "outputs": [
    {
     "data": {
      "text/plain": [
       "<Figure size 900x800 with 1 Axes>"
      ],
      "image/png": "[encoded data removed]"
     },
     "metadata": {},
     "output_type": "display_data"
    }
   ],
   "execution_count": 5
  },
  {
   "metadata": {},
   "cell_type": "markdown",
   "source": "## Create balanced dataset",
   "id": "fcb13da592465442"
  },
  {
   "metadata": {},
   "cell_type": "markdown",
   "source": "This first step analyzes the distribution of faces in the training data. By counting how many images we have for each person, we identify the class with the most examples. This maximum count will be the target size for all classes after balancing, ensuring no single face dominates the training process.",
   "id": "334564b10c87255e"
  },
  {
   "metadata": {
    "ExecuteTime": {
     "end_time": "2024-12-20T09:30:53.199883Z",
     "start_time": "2024-12-20T09:30:35.979306Z"
    }
   },
   "cell_type": "code",
   "source": [
    "class_counts = Counter([label for _, label in train_dataset])\n",
    "max_samples = max(class_counts.values())"
   ],
   "id": "fd4e4d1444fe43c1",
   "outputs": [],
   "execution_count": 18
  },
  {
   "metadata": {},
   "cell_type": "markdown",
   "source": "",
   "id": "bf79067379652295"
  },
  {
   "metadata": {},
   "cell_type": "markdown",
   "source": [
    "### Balanced indices\n",
    "\n",
    "Here's the core logic for balancing. For each face, we find the indices of all its images in the original dataset. Then, we oversample by repeating these indices until we reach the max_samples count"
   ],
   "id": "4f36b2827439c62"
  },
  {
   "metadata": {
    "ExecuteTime": {
     "end_time": "2024-12-20T09:33:00.944710Z",
     "start_time": "2024-12-20T09:31:01.490195Z"
    }
   },
   "cell_type": "code",
   "source": [
    "balanced_indices = []\n",
    "for class_label in class_counts.keys():\n",
    "    # Get all indices of the current class\n",
    "    class_indices = [i for i, (_, label) in enumerate(train_dataset) if label == class_label]\n",
    "    \n",
    "    # Oversample the class\n",
    "    oversampled_indices = class_indices * (max_samples // len(class_indices)) + \\\n",
    "                          class_indices[:max_samples % len(class_indices)]\n",
    "    balanced_indices.extend(oversampled_indices)"
   ],
   "id": "c16aaea71f845f0b",
   "outputs": [],
   "execution_count": 19
  },
  {
   "metadata": {},
   "cell_type": "markdown",
   "source": [
    "### Create new balanced set\n",
    "Finally, we create a new dataset containing only the samples at the indices we generated. Using Subset is crucial for efficiency"
   ],
   "id": "4bab20b925ad4e1"
  },
  {
   "metadata": {
    "ExecuteTime": {
     "end_time": "2024-12-20T09:33:00.953108Z",
     "start_time": "2024-12-20T09:33:00.948942Z"
    }
   },
   "cell_type": "code",
   "source": "balanced_dataset = Subset(train_dataset, balanced_indices)",
   "id": "2b93f1752532a705",
   "outputs": [],
   "execution_count": 20
  },
  {
   "metadata": {},
   "cell_type": "markdown",
   "source": "## Plot the new balanced dataset",
   "id": "c680569e57a3fae9"
  },
  {
   "metadata": {
    "ExecuteTime": {
     "end_time": "2024-12-20T09:33:30.427383Z",
     "start_time": "2024-12-20T09:33:00.963610Z"
    }
   },
   "cell_type": "code",
   "source": "labels = [label for _, label in balanced_dataset]",
   "id": "3f35b0663a634697",
   "outputs": [],
   "execution_count": 21
  },
  {
   "metadata": {},
   "cell_type": "markdown",
   "source": [
    "### Plot\n",
    "In this plot we can obviously see that the classes are now balanced. This will help the model to learn the features of each class better."
   ],
   "id": "d680256dbeb1a2b8"
  },
  {
   "metadata": {
    "ExecuteTime": {
     "end_time": "2024-12-20T09:33:30.612837Z",
     "start_time": "2024-12-20T09:33:30.435765Z"
    }
   },
   "cell_type": "code",
   "source": [
    "plt.figure(figsize=(9, 8))\n",
    "sns.countplot(x=labels)\n",
    "_ = plt.title('Emotion distribution')\n",
    "_ = plt.xticks(ticks=range(7), labels=[emotions[i] for i in range(7)])\n",
    "plt.show()"
   ],
   "id": "8e5c9f49cf37f38a",
   "outputs": [
    {
     "data": {
      "text/plain": [
       "<Figure size 900x800 with 1 Axes>"
      ],
      "image/png": "[encoded data removed]"
     },
     "metadata": {},
     "output_type": "display_data"
    }
   ],
   "execution_count": 22
  },
  {
   "metadata": {},
   "cell_type": "markdown",
   "source": "## Saving",
   "id": "12d1a79ec05d9b1d"
  },
  {
   "metadata": {
    "ExecuteTime": {
     "end_time": "2024-12-20T09:33:31.655247Z",
     "start_time": "2024-12-20T09:33:30.637332Z"
    }
   },
   "cell_type": "code",
   "source": "torch.save(balanced_dataset, balanced_dataset_output_path)",
   "id": "d6da3289f2821910",
   "outputs": [],
   "execution_count": 24
  }
 ],
 "metadata": {
  "kernelspec": {
   "display_name": "Python 3",
   "language": "python",
   "name": "python3"
  },
  "language_info": {
   "codemirror_mode": {
    "name": "ipython",
    "version": 2
   },
   "file_extension": ".py",
   "mimetype": "text/x-python",
   "name": "python",
   "nbconvert_exporter": "python",
   "pygments_lexer": "ipython2",
   "version": "2.7.6"
  }
 },
 "nbformat": 4,
 "nbformat_minor": 5
}
