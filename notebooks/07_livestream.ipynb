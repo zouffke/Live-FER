{
 "cells": [
  {
   "metadata": {},
   "cell_type": "markdown",
   "source": "# Perform FER on livestream",
   "id": "f628393f93ec9329"
  },
  {
   "metadata": {},
   "cell_type": "markdown",
   "source": "## Imports",
   "id": "ae3c06fda12d40e"
  },
  {
   "metadata": {
    "ExecuteTime": {
     "end_time": "2024-12-22T14:02:37.804271Z",
     "start_time": "2024-12-22T14:02:31.845361Z"
    }
   },
   "cell_type": "code",
   "source": [
    "import sys\n",
    "import os\n",
    "\n",
    "sys.path.append(os.path.abspath('../scripts'))\n",
    "\n",
    "from scripts.local_live_FER import main as live_fer"
   ],
   "id": "938dd93f2b92c287",
   "outputs": [],
   "execution_count": 1
  },
  {
   "metadata": {},
   "cell_type": "markdown",
   "source": "## Code",
   "id": "7a95136985d38f0a"
  },
  {
   "metadata": {
    "ExecuteTime": {
     "end_time": "2024-12-22T14:03:11.349676Z",
     "start_time": "2024-12-22T14:02:37.811267Z"
    }
   },
   "cell_type": "code",
   "source": "live_fer()",
   "id": "f365f2c4527f0ee1",
   "outputs": [
    {
     "name": "stdout",
     "output_type": "stream",
     "text": [
      "Press 'q' to quit.\n"
     ]
    }
   ],
   "execution_count": 2
  }
 ],
 "metadata": {
  "kernelspec": {
   "display_name": "Python 3",
   "language": "python",
   "name": "python3"
  },
  "language_info": {
   "codemirror_mode": {
    "name": "ipython",
    "version": 2
   },
   "file_extension": ".py",
   "mimetype": "text/x-python",
   "name": "python",
   "nbconvert_exporter": "python",
   "pygments_lexer": "ipython2",
   "version": "2.7.6"
  }
 },
 "nbformat": 4,
 "nbformat_minor": 5
}
